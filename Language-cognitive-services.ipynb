{
 "cells": [
  {
   "cell_type": "markdown",
   "metadata": {},
   "source": [
    "## Text Analytics: \n",
    "sentiment analysis; language detection; key phrase extraction; entity recognition\n",
    "\n",
    "Text is sent to the API as a list of documents, which are dictionary objects containing a combination of id, text, and language attributes depending on the method used. The text attribute stores the text to be analyzed in the origin language, and the id can be any value.\n",
    "\n",
    "The response object is a list containing the analysis information for each document."
   ]
  },
  {
   "cell_type": "code",
   "execution_count": 2,
   "metadata": {},
   "outputs": [],
   "source": [
    "# !pip install --upgrade azure-cognitiveservices-language-textanalytics"
   ]
  },
  {
   "cell_type": "code",
   "execution_count": 2,
   "metadata": {},
   "outputs": [],
   "source": [
    "import os\n",
    "from azure.cognitiveservices.language.textanalytics import TextAnalyticsClient\n",
    "from msrest.authentication import CognitiveServicesCredentials"
   ]
  },
  {
   "cell_type": "code",
   "execution_count": 11,
   "metadata": {},
   "outputs": [],
   "source": [
    "!export COGNITIVE_SERVICE_KEY=\"0367401a2fde4c1d82f8c38963263ac7\"\n",
    "!source ~/.bashrc"
   ]
  },
  {
   "cell_type": "code",
   "execution_count": 12,
   "metadata": {},
   "outputs": [],
   "source": [
    "subscription_key = \"0367401a2fde4c1d82f8c38963263ac7\"\n",
    "endpoint = \"https://eastus.api.cognitive.microsoft.com/\""
   ]
  },
  {
   "cell_type": "code",
   "execution_count": 5,
   "metadata": {},
   "outputs": [],
   "source": [
    "def authenticateClient():\n",
    "    credentials = CognitiveServicesCredentials(subscription_key)\n",
    "    text_analytics_client = TextAnalyticsClient(\n",
    "        endpoint=endpoint, credentials=credentials)\n",
    "    return text_analytics_client"
   ]
  },
  {
   "cell_type": "code",
   "execution_count": 6,
   "metadata": {},
   "outputs": [
    {
     "data": {
      "text/plain": [
       "<azure.cognitiveservices.language.textanalytics.text_analytics_client.TextAnalyticsClient at 0x7fb5886fb898>"
      ]
     },
     "execution_count": 6,
     "metadata": {},
     "output_type": "execute_result"
    }
   ],
   "source": [
    "authenticateClient()"
   ]
  },
  {
   "cell_type": "code",
   "execution_count": 7,
   "metadata": {},
   "outputs": [
    {
     "name": "stdout",
     "output_type": "stream",
     "text": [
      "Document Id:  1 , Sentiment Score:  0.87\n",
      "Document Id:  2 , Sentiment Score:  0.11\n",
      "Document Id:  3 , Sentiment Score:  0.44\n",
      "Document Id:  4 , Sentiment Score:  1.00\n"
     ]
    }
   ],
   "source": [
    "def sentiment():\n",
    "    \n",
    "    client = authenticateClient()\n",
    "\n",
    "    try:\n",
    "        documents = [\n",
    "            {\"id\": \"1\", \"language\": \"en\", \"text\": \"I had the best day of my life.\"},\n",
    "            {\"id\": \"2\", \"language\": \"en\",\n",
    "                \"text\": \"This was a waste of my time. The speaker put me to sleep.\"},\n",
    "            {\"id\": \"3\", \"language\": \"es\", \"text\": \"No tengo dinero ni nada que dar...\"},\n",
    "            {\"id\": \"4\", \"language\": \"it\",\n",
    "                \"text\": \"L'hotel veneziano era meraviglioso. È un bellissimo pezzo di architettura.\"}\n",
    "        ]\n",
    "\n",
    "        response = client.sentiment(documents=documents)\n",
    "        for document in response.documents:\n",
    "            print(\"Document Id: \", document.id, \", Sentiment Score: \",\n",
    "                  \"{:.2f}\".format(document.score))\n",
    "\n",
    "    except Exception as err:\n",
    "        print(\"Encountered exception. {}\".format(err))\n",
    "sentiment()"
   ]
  },
  {
   "cell_type": "code",
   "execution_count": 8,
   "metadata": {},
   "outputs": [
    {
     "name": "stdout",
     "output_type": "stream",
     "text": [
      "Document Id:  1 , Language:  English\n",
      "Document Id:  2 , Language:  Spanish\n",
      "Document Id:  3 , Language:  Chinese_Simplified\n"
     ]
    }
   ],
   "source": [
    "def language_detection():\n",
    "    client = authenticateClient()\n",
    "\n",
    "    try:\n",
    "        documents = [\n",
    "            {'id': '1', 'text': 'This is a document written in English.'},\n",
    "            {'id': '2', 'text': 'Este es un document escrito en Español.'},\n",
    "            {'id': '3', 'text': '这是一个用中文写的文件'}\n",
    "        ]\n",
    "        response = client.detect_language(documents=documents)\n",
    "\n",
    "        for document in response.documents:\n",
    "            print(\"Document Id: \", document.id, \", Language: \",\n",
    "                  document.detected_languages[0].name)\n",
    "\n",
    "    except Exception as err:\n",
    "        print(\"Encountered exception. {}\".format(err))\n",
    "language_detection()"
   ]
  },
  {
   "cell_type": "code",
   "execution_count": 9,
   "metadata": {},
   "outputs": [
    {
     "name": "stdout",
     "output_type": "stream",
     "text": [
      "Document Id:  1\n",
      "\tKey Entities:\n",
      "\t\t NAME:  Microsoft \tType:  Organization \tSub-type:  None\n",
      "\t\t\tOffset:  0 \tLength:  9 \tScore:  1.00\n",
      "\t\t NAME:  Bill Gates \tType:  Person \tSub-type:  None\n",
      "\t\t\tOffset:  25 \tLength:  10 \tScore:  1.00\n",
      "\t\t NAME:  Paul Allen \tType:  Person \tSub-type:  None\n",
      "\t\t\tOffset:  40 \tLength:  10 \tScore:  1.00\n",
      "\t\t NAME:  April 4 \tType:  Other \tSub-type:  None\n",
      "\t\t\tOffset:  54 \tLength:  7 \tScore:  0.80\n",
      "\t\t NAME:  April 4, 1975 \tType:  DateTime \tSub-type:  Date\n",
      "\t\t\tOffset:  54 \tLength:  13 \tScore:  0.80\n",
      "\t\t NAME:  BASIC \tType:  Other \tSub-type:  None\n",
      "\t\t\tOffset:  89 \tLength:  5 \tScore:  0.80\n",
      "\t\t NAME:  Altair 8800 \tType:  Other \tSub-type:  None\n",
      "\t\t\tOffset:  116 \tLength:  11 \tScore:  0.80\n",
      "\t\t NAME:  Altair \tType:  Organization \tSub-type:  None\n",
      "\t\t\tOffset:  116 \tLength:  6 \tScore:  0.53\n",
      "\t\t NAME:  8800 \tType:  Quantity \tSub-type:  Number\n",
      "\t\t\tOffset:  123 \tLength:  4 \tScore:  0.80\n",
      "Document Id:  2\n",
      "\tKey Entities:\n",
      "\t\t NAME:  Microsoft \tType:  Organization \tSub-type:  None\n",
      "\t\t\tOffset:  21 \tLength:  9 \tScore:  1.00\n",
      "\t\t NAME:  Redmond (Washington) \tType:  Location \tSub-type:  None\n",
      "\t\t\tOffset:  60 \tLength:  7 \tScore:  0.99\n",
      "\t\t NAME:  21 kilómetros \tType:  Quantity \tSub-type:  Dimension\n",
      "\t\t\tOffset:  71 \tLength:  13 \tScore:  0.80\n",
      "\t\t NAME:  Seattle \tType:  Location \tSub-type:  None\n",
      "\t\t\tOffset:  88 \tLength:  7 \tScore:  1.00\n"
     ]
    }
   ],
   "source": [
    "def entity_recognition():\n",
    "    \n",
    "    client = authenticateClient()\n",
    "\n",
    "    try:\n",
    "        documents = [\n",
    "            {\"id\": \"1\", \"language\": \"en\", \"text\": \"Microsoft was founded by Bill Gates and Paul Allen on April 4, 1975, to develop and sell BASIC interpreters for the Altair 8800.\"},\n",
    "            {\"id\": \"2\", \"language\": \"es\",\n",
    "                \"text\": \"La sede principal de Microsoft se encuentra en la ciudad de Redmond, a 21 kilómetros de Seattle.\"}\n",
    "        ]\n",
    "        response = client.entities(documents=documents)\n",
    "\n",
    "        for document in response.documents:\n",
    "            print(\"Document Id: \", document.id)\n",
    "            print(\"\\tKey Entities:\")\n",
    "            for entity in document.entities:\n",
    "                print(\"\\t\\t\", \"NAME: \", entity.name, \"\\tType: \",\n",
    "                      entity.type, \"\\tSub-type: \", entity.sub_type)\n",
    "                for match in entity.matches:\n",
    "                    print(\"\\t\\t\\tOffset: \", match.offset, \"\\tLength: \", match.length, \"\\tScore: \",\n",
    "                          \"{:.2f}\".format(match.entity_type_score))\n",
    "\n",
    "    except Exception as err:\n",
    "        print(\"Encountered exception. {}\".format(err))\n",
    "entity_recognition()"
   ]
  },
  {
   "cell_type": "code",
   "execution_count": 10,
   "metadata": {},
   "outputs": [
    {
     "name": "stdout",
     "output_type": "stream",
     "text": [
      "Asking key-phrases on '猫は幸せ' (id: 1)\n",
      "Asking key-phrases on 'Fahrt nach Stuttgart und dann zum Hotel zu Fu.' (id: 2)\n",
      "Asking key-phrases on 'My cat might need to see a veterinarian.' (id: 3)\n",
      "Asking key-phrases on 'A mi me encanta el fútbol!' (id: 4)\n",
      "Document Id:  1\n",
      "\tKey Phrases:\n",
      "\t\t 幸せ\n",
      "Document Id:  2\n",
      "\tKey Phrases:\n",
      "\t\t Stuttgart\n",
      "\t\t Hotel\n",
      "\t\t Fahrt\n",
      "\t\t Fu\n",
      "Document Id:  3\n",
      "\tKey Phrases:\n",
      "\t\t cat\n",
      "\t\t veterinarian\n",
      "Document Id:  4\n",
      "\tKey Phrases:\n",
      "\t\t fútbol\n"
     ]
    }
   ],
   "source": [
    "def key_phrases():\n",
    "    \n",
    "    client = authenticateClient()\n",
    "\n",
    "    try:\n",
    "        documents = [\n",
    "            {\"id\": \"1\", \"language\": \"ja\", \"text\": \"猫は幸せ\"},\n",
    "            {\"id\": \"2\", \"language\": \"de\",\n",
    "                \"text\": \"Fahrt nach Stuttgart und dann zum Hotel zu Fu.\"},\n",
    "            {\"id\": \"3\", \"language\": \"en\",\n",
    "                \"text\": \"My cat might need to see a veterinarian.\"},\n",
    "            {\"id\": \"4\", \"language\": \"es\", \"text\": \"A mi me encanta el fútbol!\"}\n",
    "        ]\n",
    "\n",
    "        for document in documents:\n",
    "            print(\n",
    "                \"Asking key-phrases on '{}' (id: {})\".format(document['text'], document['id']))\n",
    "\n",
    "        response = client.key_phrases(documents=documents)\n",
    "\n",
    "        for document in response.documents:\n",
    "            print(\"Document Id: \", document.id)\n",
    "            print(\"\\tKey Phrases:\")\n",
    "            for phrase in document.key_phrases:\n",
    "                print(\"\\t\\t\", phrase)\n",
    "\n",
    "    except Exception as err:\n",
    "        print(\"Encountered exception. {}\".format(err))\n",
    "key_phrases()"
   ]
  },
  {
   "cell_type": "markdown",
   "metadata": {},
   "source": [
    "## Language Understanding (LUIS) and QnA maker\n",
    "chatbot service: https://docs.microsoft.com/en-us/azure/cognitive-services/luis/index\n",
    "QnA maker: make a knowledge base https://docs.microsoft.com/en-us/azure/cognitive-services/qnamaker/overview/overview"
   ]
  },
  {
   "cell_type": "markdown",
   "metadata": {},
   "source": [
    "## Translator Text API (custom translation available)\n",
    "https://docs.microsoft.com/en-us/azure/cognitive-services/translator/index"
   ]
  },
  {
   "cell_type": "markdown",
   "metadata": {},
   "source": [
    "## Speech Service\n",
    "speech-to-text, text-to-speech, intent recognition, speech translation, voice assitantt, conversation transcription\n",
    "https://docs.microsoft.com/en-us/azure/cognitive-services/speech-service/index#pivot=start&panel=intentrecognition"
   ]
  },
  {
   "cell_type": "code",
   "execution_count": null,
   "metadata": {},
   "outputs": [],
   "source": []
  },
  {
   "cell_type": "code",
   "execution_count": null,
   "metadata": {},
   "outputs": [],
   "source": []
  },
  {
   "cell_type": "code",
   "execution_count": null,
   "metadata": {},
   "outputs": [],
   "source": []
  }
 ],
 "metadata": {
  "kernelspec": {
   "display_name": "Python 3",
   "language": "python",
   "name": "python3"
  },
  "language_info": {
   "codemirror_mode": {
    "name": "ipython",
    "version": 3
   },
   "file_extension": ".py",
   "mimetype": "text/x-python",
   "name": "python",
   "nbconvert_exporter": "python",
   "pygments_lexer": "ipython3",
   "version": "3.6.6"
  }
 },
 "nbformat": 4,
 "nbformat_minor": 2
}
